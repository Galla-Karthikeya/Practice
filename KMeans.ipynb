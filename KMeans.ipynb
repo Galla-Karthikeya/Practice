{
 "cells": [
  {
   "cell_type": "markdown",
   "id": "1cfb4c14-6285-4bef-a359-22e49e15d65a",
   "metadata": {},
   "source": [
    "# What is KMeans Clustering\n",
    "* K-Means is a type of Unsupervised learnign algorithm used for clustering.\n",
    "* The goal of K-Means is to group similar data points together based on their features into a specified **number of clusters(K)**.\n",
    "* The 'mean' in K-Means refers to the averaging of data that called as **centroids**"
   ]
  },
  {
   "cell_type": "markdown",
   "id": "7070e014-6365-4062-b6e0-c18e841ce8a3",
   "metadata": {},
   "source": [
    "# Working of K-Means Clustering\n",
    "* **Initialization**: K inital centriods are randomly selected from the dataset.\n",
    "    * These centroids are essentially, data points representing the initail center of a cluster\n",
    "* **Assignment Step**: Each data poiint in the dataset is assigned to the nearest centroid, and it becomes a member of that particular cluster.\n",
    "* **Update Step**: The centroids of the newly formed clusters are recalculated as the mean of all points in the cluster.\n",
    "* **Convergence**: Steps 2 & 3 are repeated until the centroids no longer change, and the cluster assignment become stable."
   ]
  },
  {
   "cell_type": "markdown",
   "id": "6b17d725-066b-4b63-a2db-972bd108b9aa",
   "metadata": {},
   "source": [
    "# Application of K-Means Clustering\n",
    "* **Market Segmentation**: Grouping customers based on purchasing behavior, age, income etc..\n",
    "* **Document Classification**: Grouping documents by topics or themes.\n",
    "* **Image Compression**: Reducing the no of colors in an image.\n",
    "* **Spatial Data Analysis**: Identifying areas of similar land use in an urban setting.\n",
    "* **Anomaly Detection**: Detecting unusual patterns or outliers in datasets."
   ]
  },
  {
   "cell_type": "markdown",
   "id": "f5635440-641d-4ac0-a5f9-1b54c353364e",
   "metadata": {},
   "source": [
    "# Advantages of K-Means CLustering\n",
    "* **Simplicity**: It is strightforward and easy to understand\n",
    "* **Speed**: It's relatively fast, especially if the no of variables is large.\n",
    "* **Scalability**: Efficient implemetations can handle large datasets"
   ]
  },
  {
   "cell_type": "markdown",
   "id": "59b5cb5b-ef31-4b09-aaa3-80b64b8a21ab",
   "metadata": {
    "jp-MarkdownHeadingCollapsed": true
   },
   "source": [
    "# Disadvantage of K-Means Clustering\n",
    "* **No of Clusters**: The value of K-Means to be specified beforehead, which isn't always strightforward\n",
    "* **Inital Centroids**: The final result can be sensitive to the inital selection of centroids. This can partly mitigated using techniques like K-Means++ for smarted initalization\n",
    "* **Convergence to Local Optima**\n",
    "* **Spherical Assumption**"
   ]
  },
  {
   "cell_type": "markdown",
   "id": "ff5bdf83-077f-49a0-8f62-32955ec40a85",
   "metadata": {},
   "source": [
    "# Problem"
   ]
  },
  {
   "cell_type": "code",
   "execution_count": 1,
   "id": "c16b4f3e-fcff-49b8-af27-4b16fc877d74",
   "metadata": {},
   "outputs": [],
   "source": [
    "import numpy as np\n",
    "import pandas as pd\n",
    "import matplotlib.pyplot as plt\n",
    "import seaborn as sns"
   ]
  },
  {
   "cell_type": "code",
   "execution_count": 3,
   "id": "8b767847-2b54-42ef-a892-6bd8f14e6d47",
   "metadata": {},
   "outputs": [],
   "source": [
    "from sklearn.datasets import make_blobs"
   ]
  },
  {
   "cell_type": "code",
   "execution_count": 14,
   "id": "8dd6f056-015f-4b44-8785-c77eea4fcfc8",
   "metadata": {},
   "outputs": [
    {
     "data": {
      "text/plain": [
       "(array([[  0.1327267 ,   4.0994966 ],\n",
       "        [ -7.2823074 ,  -5.37207359],\n",
       "        [ -3.02556016,  -0.32974736],\n",
       "        [-10.3256823 ,  -6.29837836],\n",
       "        [  0.93001891,   6.50997514],\n",
       "        [  1.55168509,   5.87887327],\n",
       "        [ -3.29733795,   1.82131184],\n",
       "        [ -8.43973876,  -5.53654394],\n",
       "        [  0.48699726,   7.02963896],\n",
       "        [-10.15624837,  -6.38864651],\n",
       "        [  1.73571997,   7.4402154 ],\n",
       "        [ -8.15086029,  -7.04351602],\n",
       "        [  1.0773689 ,   4.30557304],\n",
       "        [  0.95929597,   4.83871096],\n",
       "        [ -2.16944693,  -0.12662311],\n",
       "        [  0.5662643 ,   7.52981548],\n",
       "        [ -8.11219187,  -6.22600824],\n",
       "        [ -8.80950732,  -6.02116794],\n",
       "        [ -3.2941484 ,   1.91296862],\n",
       "        [ -1.35327777,   1.6432528 ],\n",
       "        [  0.65161861,   5.8886176 ],\n",
       "        [  0.67628114,   6.70862815],\n",
       "        [ -0.19999899,   6.67008537],\n",
       "        [ -0.56236098,   6.19410831],\n",
       "        [  1.33784661,   6.14963718],\n",
       "        [ -2.35289423,  -1.29357983],\n",
       "        [ -4.13633268,  -0.23960885],\n",
       "        [  0.63710437,   5.98891683],\n",
       "        [ -3.33023261,   1.1369159 ],\n",
       "        [ -9.30847216,  -3.71223377],\n",
       "        [ -1.18632829,   6.6208951 ],\n",
       "        [ -3.7142688 ,   0.56227657],\n",
       "        [ -3.15008614,   1.28638658],\n",
       "        [ -2.42576169,  -0.05417502],\n",
       "        [ -8.65891887,  -6.05170851],\n",
       "        [ -7.4697464 ,  -5.18193869],\n",
       "        [ -2.0459722 ,   0.90793897],\n",
       "        [ -0.89878212,   0.09013061],\n",
       "        [ -8.85267041,  -6.03648093],\n",
       "        [ -3.11265717,   0.91980828],\n",
       "        [ -8.42212877,  -5.77006478],\n",
       "        [ -1.03917487,   5.65441084],\n",
       "        [ -0.28741117,   6.13460275],\n",
       "        [ -2.16441284,   1.51043183],\n",
       "        [ -2.28342369,   5.87744183],\n",
       "        [  1.68008666,   7.5635504 ],\n",
       "        [ -8.91086628,  -6.86391452],\n",
       "        [ -9.10175634,  -6.39661226],\n",
       "        [ -2.59276917,   1.04258209],\n",
       "        [-10.18703021,  -6.13512587],\n",
       "        [ -7.8416666 ,  -6.31295122],\n",
       "        [ -9.16252245,  -6.69623527],\n",
       "        [ -2.69115277,   1.99547959],\n",
       "        [ -2.02494416,   0.03398305],\n",
       "        [ -4.62198066,  -0.12134412],\n",
       "        [ -8.56561115,  -4.91204428],\n",
       "        [ -4.13920973,   0.1677229 ],\n",
       "        [  1.31751953,   6.15649401],\n",
       "        [ -8.86949098,  -5.22724336],\n",
       "        [  0.78287368,   8.44806623],\n",
       "        [ -7.621805  ,  -4.29548508],\n",
       "        [ -8.88690817,  -4.92930733],\n",
       "        [  0.47050435,   6.73374144],\n",
       "        [  0.76276713,   5.77623699],\n",
       "        [ -0.33027025,   6.83778981],\n",
       "        [  1.22782622,   6.72825138],\n",
       "        [ -3.90001994,   0.98403131],\n",
       "        [ -9.20966983,  -7.33116911],\n",
       "        [ -2.73867823,   3.29149178],\n",
       "        [ -0.50704603,   6.18648948],\n",
       "        [ -7.28574187,  -4.26579886],\n",
       "        [ -6.71928877,  -7.0402419 ],\n",
       "        [ -1.71128796,   1.49754142],\n",
       "        [ -8.97462056,  -5.3055882 ],\n",
       "        [  1.77170787,   6.33161271],\n",
       "        [ -2.03665706,   2.43437033],\n",
       "        [ -3.05752285,   2.19081308],\n",
       "        [  0.78248747,   6.00273154],\n",
       "        [  0.83786555,   7.02581032],\n",
       "        [ -9.33590973,  -7.52837461],\n",
       "        [ -7.75083355,  -5.13924274],\n",
       "        [ -8.53617788,  -5.85568511],\n",
       "        [ -7.91557552,  -6.0365859 ],\n",
       "        [ -2.03528727,   2.08449527],\n",
       "        [ -1.77782676,   1.40916809],\n",
       "        [ -0.10888689,   6.07908772],\n",
       "        [ -2.4141146 ,  -1.98050072],\n",
       "        [ -9.51432049,  -7.85887249],\n",
       "        [ -2.57805528,   1.15955941],\n",
       "        [ -0.29552408,   8.45800515],\n",
       "        [ -3.31696732,  -0.25034524],\n",
       "        [ -3.28843976,   0.76161791],\n",
       "        [ -3.04506947,   0.97682305],\n",
       "        [-11.13854522,  -6.56657764],\n",
       "        [  0.53531546,   6.88068969],\n",
       "        [-10.21482278,  -4.93129922],\n",
       "        [ -7.79055516,  -6.37168921],\n",
       "        [ -0.88905967,   7.29564833],\n",
       "        [ -2.67140905,   2.20469489],\n",
       "        [ -7.84230392,  -5.25696671]]),\n",
       " array([1, 0, 2, 0, 1, 1, 2, 0, 1, 0, 1, 0, 1, 1, 2, 1, 0, 0, 2, 2, 1, 1,\n",
       "        1, 1, 1, 2, 2, 1, 2, 0, 1, 2, 2, 2, 0, 0, 2, 2, 0, 2, 0, 1, 1, 2,\n",
       "        1, 1, 0, 0, 2, 0, 0, 0, 2, 2, 2, 0, 2, 1, 0, 1, 0, 0, 1, 1, 1, 1,\n",
       "        2, 0, 2, 1, 0, 0, 2, 0, 1, 2, 2, 1, 1, 0, 0, 0, 0, 2, 2, 1, 2, 0,\n",
       "        2, 1, 2, 2, 2, 0, 1, 0, 0, 1, 2, 0]))"
      ]
     },
     "execution_count": 14,
     "metadata": {},
     "output_type": "execute_result"
    }
   ],
   "source": [
    "data = make_blobs()\n",
    "data"
   ]
  },
  {
   "cell_type": "code",
   "execution_count": 15,
   "id": "fe1bf3b8-6e46-47d0-a086-20bb7e1300ab",
   "metadata": {},
   "outputs": [
    {
     "data": {
      "text/html": [
       "<div>\n",
       "<style scoped>\n",
       "    .dataframe tbody tr th:only-of-type {\n",
       "        vertical-align: middle;\n",
       "    }\n",
       "\n",
       "    .dataframe tbody tr th {\n",
       "        vertical-align: top;\n",
       "    }\n",
       "\n",
       "    .dataframe thead th {\n",
       "        text-align: right;\n",
       "    }\n",
       "</style>\n",
       "<table border=\"1\" class=\"dataframe\">\n",
       "  <thead>\n",
       "    <tr style=\"text-align: right;\">\n",
       "      <th></th>\n",
       "      <th>A</th>\n",
       "      <th>B</th>\n",
       "    </tr>\n",
       "  </thead>\n",
       "  <tbody>\n",
       "    <tr>\n",
       "      <th>0</th>\n",
       "      <td>0.132727</td>\n",
       "      <td>4.099497</td>\n",
       "    </tr>\n",
       "    <tr>\n",
       "      <th>1</th>\n",
       "      <td>-7.282307</td>\n",
       "      <td>-5.372074</td>\n",
       "    </tr>\n",
       "    <tr>\n",
       "      <th>2</th>\n",
       "      <td>-3.025560</td>\n",
       "      <td>-0.329747</td>\n",
       "    </tr>\n",
       "    <tr>\n",
       "      <th>3</th>\n",
       "      <td>-10.325682</td>\n",
       "      <td>-6.298378</td>\n",
       "    </tr>\n",
       "    <tr>\n",
       "      <th>4</th>\n",
       "      <td>0.930019</td>\n",
       "      <td>6.509975</td>\n",
       "    </tr>\n",
       "  </tbody>\n",
       "</table>\n",
       "</div>"
      ],
      "text/plain": [
       "           A         B\n",
       "0   0.132727  4.099497\n",
       "1  -7.282307 -5.372074\n",
       "2  -3.025560 -0.329747\n",
       "3 -10.325682 -6.298378\n",
       "4   0.930019  6.509975"
      ]
     },
     "execution_count": 15,
     "metadata": {},
     "output_type": "execute_result"
    }
   ],
   "source": [
    "df = pd.DataFrame(data[0], columns = ['A', 'B'], )\n",
    "df.head()"
   ]
  },
  {
   "cell_type": "code",
   "execution_count": 16,
   "id": "dcb3a55c-d06b-424c-8ce0-ddeaf411cc05",
   "metadata": {},
   "outputs": [],
   "source": [
    "df['Target'] = data[1]"
   ]
  },
  {
   "cell_type": "code",
   "execution_count": 19,
   "id": "f26cb11d-dd20-4e6e-94e0-3e3ca3dd67c0",
   "metadata": {},
   "outputs": [
    {
     "data": {
      "text/html": [
       "<div>\n",
       "<style scoped>\n",
       "    .dataframe tbody tr th:only-of-type {\n",
       "        vertical-align: middle;\n",
       "    }\n",
       "\n",
       "    .dataframe tbody tr th {\n",
       "        vertical-align: top;\n",
       "    }\n",
       "\n",
       "    .dataframe thead th {\n",
       "        text-align: right;\n",
       "    }\n",
       "</style>\n",
       "<table border=\"1\" class=\"dataframe\">\n",
       "  <thead>\n",
       "    <tr style=\"text-align: right;\">\n",
       "      <th></th>\n",
       "      <th>A</th>\n",
       "      <th>B</th>\n",
       "      <th>Target</th>\n",
       "    </tr>\n",
       "  </thead>\n",
       "  <tbody>\n",
       "    <tr>\n",
       "      <th>0</th>\n",
       "      <td>0.132727</td>\n",
       "      <td>4.099497</td>\n",
       "      <td>1</td>\n",
       "    </tr>\n",
       "    <tr>\n",
       "      <th>1</th>\n",
       "      <td>-7.282307</td>\n",
       "      <td>-5.372074</td>\n",
       "      <td>0</td>\n",
       "    </tr>\n",
       "    <tr>\n",
       "      <th>2</th>\n",
       "      <td>-3.025560</td>\n",
       "      <td>-0.329747</td>\n",
       "      <td>2</td>\n",
       "    </tr>\n",
       "    <tr>\n",
       "      <th>3</th>\n",
       "      <td>-10.325682</td>\n",
       "      <td>-6.298378</td>\n",
       "      <td>0</td>\n",
       "    </tr>\n",
       "    <tr>\n",
       "      <th>4</th>\n",
       "      <td>0.930019</td>\n",
       "      <td>6.509975</td>\n",
       "      <td>1</td>\n",
       "    </tr>\n",
       "  </tbody>\n",
       "</table>\n",
       "</div>"
      ],
      "text/plain": [
       "           A         B  Target\n",
       "0   0.132727  4.099497       1\n",
       "1  -7.282307 -5.372074       0\n",
       "2  -3.025560 -0.329747       2\n",
       "3 -10.325682 -6.298378       0\n",
       "4   0.930019  6.509975       1"
      ]
     },
     "execution_count": 19,
     "metadata": {},
     "output_type": "execute_result"
    }
   ],
   "source": [
    "df.head()"
   ]
  },
  {
   "cell_type": "code",
   "execution_count": 20,
   "id": "d27a920b-b335-4dcf-b014-9fbab1fa74b2",
   "metadata": {},
   "outputs": [
    {
     "data": {
      "text/plain": [
       "Target\n",
       "0    34\n",
       "1    33\n",
       "2    33\n",
       "Name: count, dtype: int64"
      ]
     },
     "execution_count": 20,
     "metadata": {},
     "output_type": "execute_result"
    }
   ],
   "source": [
    "df.Target.value_counts()"
   ]
  },
  {
   "cell_type": "code",
   "execution_count": 18,
   "id": "1bac40df-86a3-442c-a57f-7cccf6eae832",
   "metadata": {},
   "outputs": [
    {
     "data": {
      "text/plain": [
       "<Axes: xlabel='A', ylabel='B'>"
      ]
     },
     "execution_count": 18,
     "metadata": {},
     "output_type": "execute_result"
    },
    {
     "data": {
      "image/png": "[encoded data removed]",
      "text/plain": [
       "<Figure size 640x480 with 1 Axes>"
      ]
     },
     "metadata": {},
     "output_type": "display_data"
    }
   ],
   "source": [
    "sns.scatterplot(x = df['A'], y = df['B'], hue = 'Target', data = df)"
   ]
  },
  {
   "cell_type": "code",
   "execution_count": 24,
   "id": "08719efa-9d2f-4668-a477-46d3cdf48350",
   "metadata": {},
   "outputs": [],
   "source": [
    "data, target = make_blobs(n_samples = 300, centers = 4, cluster_std = 0.60, random_state = 0)"
   ]
  },
  {
   "cell_type": "code",
   "execution_count": 25,
   "id": "835eb8f9-e874-4a02-a262-a68d4aab0f63",
   "metadata": {},
   "outputs": [
    {
     "data": {
      "text/plain": [
       "array([[ 8.36856841e-01,  2.13635938e+00],\n",
       "       [-1.41365810e+00,  7.40962324e+00],\n",
       "       [ 1.15521298e+00,  5.09961887e+00],\n",
       "       [-1.01861632e+00,  7.81491465e+00],\n",
       "       [ 1.27135141e+00,  1.89254207e+00],\n",
       "       [ 3.43761754e+00,  2.61654166e-01],\n",
       "       [-1.80822253e+00,  1.59701749e+00],\n",
       "       [ 1.41372442e+00,  4.38117707e+00],\n",
       "       [-2.04932168e-01,  8.43209665e+00],\n",
       "       [-7.11099611e-01,  8.66043846e+00],\n",
       "       [-1.71237268e+00,  2.77780226e+00],\n",
       "       [-2.67000792e+00,  8.35389140e+00],\n",
       "       [ 1.24258802e+00,  4.50399192e+00],\n",
       "       [-2.22783649e+00,  6.89479938e+00],\n",
       "       [ 1.45513831e+00, -2.91989981e-02],\n",
       "       [ 4.53791789e-01,  3.95647753e+00],\n",
       "       [ 1.06923853e+00,  4.53068484e+00],\n",
       "       [ 2.56936589e+00,  5.07048304e-01],\n",
       "       [-1.06690610e+00,  3.13165795e+00],\n",
       "       [-1.07859101e+00,  2.20451529e+00],\n",
       "       [ 2.71506328e+00,  1.29082190e+00],\n",
       "       [ 1.77710994e+00,  1.18655254e+00],\n",
       "       [ 7.34363910e-01,  5.03725437e+00],\n",
       "       [-1.99648151e+00,  2.85164868e+00],\n",
       "       [-1.91828017e+00,  2.60516867e+00],\n",
       "       [-5.55523811e-01,  4.69595848e+00],\n",
       "       [ 1.69747910e+00,  8.66123282e-01],\n",
       "       [ 5.94762432e-01,  4.70964730e+00],\n",
       "       [-2.88024255e+00,  2.30437816e+00],\n",
       "       [ 1.86725632e-01,  4.02683656e+00],\n",
       "       [-5.13333436e-01,  7.87437368e+00],\n",
       "       [-2.05701103e+00,  7.37851598e+00],\n",
       "       [ 1.87271752e+00,  4.18069237e+00],\n",
       "       [-1.13121396e+00,  6.76652230e+00],\n",
       "       [-1.64428957e+00,  7.94095139e+00],\n",
       "       [-2.41933824e+00,  7.43952498e+00],\n",
       "       [-2.01606928e+00,  7.48420129e+00],\n",
       "       [-2.62142780e+00,  7.98635066e+00],\n",
       "       [-2.20299950e+00,  2.47947561e+00],\n",
       "       [ 1.66382237e+00,  6.63091635e-01],\n",
       "       [ 6.69786996e-01,  3.59540802e+00],\n",
       "       [-1.98539037e+00,  2.05520738e+00],\n",
       "       [-4.74920358e-02,  5.47425256e+00],\n",
       "       [ 1.54462126e+00,  4.21078127e+00],\n",
       "       [-1.70200643e+00,  2.46098693e+00],\n",
       "       [-1.02192525e+00,  2.76820711e+00],\n",
       "       [-1.37842552e+00,  8.10269597e+00],\n",
       "       [-1.55220688e+00,  2.74574995e+00],\n",
       "       [-1.47904303e+00,  7.56915836e+00],\n",
       "       [ 1.98894313e+00,  1.50976729e+00],\n",
       "       [-1.94972418e+00,  3.48383870e+00],\n",
       "       [ 2.45509737e+00,  6.21231788e-01],\n",
       "       [-8.94327882e-01,  7.61714473e+00],\n",
       "       [ 1.69687788e+00,  7.54910622e-01],\n",
       "       [ 1.75644805e+00,  2.05538289e+00],\n",
       "       [-1.11064012e+00,  2.82213820e+00],\n",
       "       [-4.15017659e-02,  7.80870276e+00],\n",
       "       [-1.14091533e+00,  1.97550822e+00],\n",
       "       [-1.80634968e+00,  7.72830656e+00],\n",
       "       [ 1.39263752e+00,  9.28962707e-01],\n",
       "       [-2.25698670e+00,  7.30207720e+00],\n",
       "       [ 5.71670482e-01,  4.32288566e+00],\n",
       "       [-1.54994580e+00,  9.28293222e+00],\n",
       "       [-1.03819212e+00,  2.95323761e+00],\n",
       "       [-2.10956676e+00,  3.10677258e+00],\n",
       "       [-1.18652985e+00,  2.78427720e+00],\n",
       "       [-2.45809975e+00,  7.51178724e+00],\n",
       "       [ 2.36960214e+00,  9.50716912e-01],\n",
       "       [-2.66676007e+00,  7.84766052e+00],\n",
       "       [-1.49720702e+00,  3.21418433e+00],\n",
       "       [ 1.32222457e+00,  4.17880807e+00],\n",
       "       [-4.87271301e-01,  3.32858293e+00],\n",
       "       [-1.03718771e+00,  8.06300134e+00],\n",
       "       [-1.60496819e+00,  2.97425420e+00],\n",
       "       [-1.50372568e+00,  1.92385320e+00],\n",
       "       [-7.85412206e-01,  8.45312331e+00],\n",
       "       [-1.75783190e+00,  2.97449321e+00],\n",
       "       [ 1.19008992e+00,  4.72773123e+00],\n",
       "       [ 2.14043942e+00,  7.06066610e-01],\n",
       "       [-1.03540116e+00,  8.20559195e+00],\n",
       "       [ 1.25471244e+00,  8.96331565e-02],\n",
       "       [ 5.95676822e-01,  4.08614263e+00],\n",
       "       [ 1.27955338e+00,  1.05789418e+00],\n",
       "       [ 1.72955064e+00,  1.14729369e+00],\n",
       "       [-9.49041610e-01,  8.46424331e+00],\n",
       "       [ 9.35325115e-01,  5.33179296e+00],\n",
       "       [ 2.36923352e+00,  7.94735861e-01],\n",
       "       [ 4.28576743e-01,  4.97399710e+00],\n",
       "       [-2.04758277e+00,  6.65428520e+00],\n",
       "       [-1.45672617e+00,  7.48669893e+00],\n",
       "       [ 5.29417185e-01,  3.80792420e+00],\n",
       "       [ 1.78194802e+00,  9.08151155e-01],\n",
       "       [-1.95575053e+00,  8.61631686e+00],\n",
       "       [-1.74572014e+00,  3.01190457e+00],\n",
       "       [-1.17979111e+00,  3.12767494e+00],\n",
       "       [ 1.16411070e+00,  3.79132988e+00],\n",
       "       [ 1.36155806e+00,  1.36638252e+00],\n",
       "       [ 2.60137487e+00,  1.08799459e+00],\n",
       "       [ 2.72396035e-01,  5.46996004e+00],\n",
       "       [-3.12240736e+00,  3.28167398e+00],\n",
       "       [-5.88085172e-01,  8.61427320e+00],\n",
       "       [ 1.66909648e+00, -4.36378231e-01],\n",
       "       [-6.82774903e-01,  7.67490317e+00],\n",
       "       [ 2.36790645e+00,  5.52190878e-01],\n",
       "       [ 1.05241733e+00,  4.54498095e+00],\n",
       "       [ 2.22707373e+00,  1.26296996e+00],\n",
       "       [ 2.43934644e+00, -7.25099666e-02],\n",
       "       [ 1.34471770e+00,  4.85711133e+00],\n",
       "       [-1.31454942e+00,  6.83904013e+00],\n",
       "       [ 9.82570091e-01,  5.37530962e+00],\n",
       "       [-1.06295223e+00,  2.20755388e+00],\n",
       "       [-1.60712495e+00,  3.56452854e+00],\n",
       "       [ 1.57322172e+00,  4.83933793e-01],\n",
       "       [-2.17851338e+00,  8.08585131e+00],\n",
       "       [ 1.83375842e+00,  7.54036153e-01],\n",
       "       [ 2.10616050e+00,  3.49513189e+00],\n",
       "       [-1.64338755e+00,  7.52691964e+00],\n",
       "       [ 1.10550448e+00,  1.26389129e+00],\n",
       "       [ 1.61152972e+00,  1.82347242e+00],\n",
       "       [ 4.59534668e-01,  5.44982630e+00],\n",
       "       [-5.38023054e-01,  3.01641891e+00],\n",
       "       [ 1.67841499e+00,  6.09047389e-01],\n",
       "       [-1.01214966e+00,  3.60254338e+00],\n",
       "       [ 1.34195197e+00,  5.93573847e-01],\n",
       "       [ 1.42811550e+00,  1.62435083e+00],\n",
       "       [ 2.04505527e+00,  1.12515470e+00],\n",
       "       [ 1.67280531e+00,  6.59300571e-01],\n",
       "       [-1.35863899e+00,  2.32200809e+00],\n",
       "       [ 1.13078931e+00,  9.35620856e-01],\n",
       "       [-1.73896306e+00,  1.94799775e+00],\n",
       "       [-3.40258925e-01,  8.16733925e+00],\n",
       "       [-1.63793622e+00,  2.43329317e+00],\n",
       "       [-1.68754414e+00,  2.24107546e+00],\n",
       "       [ 2.43040639e+00, -6.35709334e-02],\n",
       "       [-1.37998039e+00,  7.18503804e+00],\n",
       "       [-1.25245465e+00,  2.33911505e+00],\n",
       "       [-2.39482483e+00,  3.39806103e+00],\n",
       "       [-2.09183352e+00,  7.48142543e+00],\n",
       "       [ 4.88382309e-01,  3.26801777e+00],\n",
       "       [-5.39428614e-01,  7.45631776e+00],\n",
       "       [-2.59201821e+00,  8.07635945e+00],\n",
       "       [-1.04656513e+00,  2.96483837e+00],\n",
       "       [ 1.25566754e+00,  3.38204112e+00],\n",
       "       [-1.62150422e+00,  4.27191636e+00],\n",
       "       [ 1.86922139e+00,  5.44132083e+00],\n",
       "       [-1.76404140e+00,  2.22222995e+00],\n",
       "       [-1.38181918e+00,  7.28761248e+00],\n",
       "       [ 7.93137001e-03,  4.17614316e+00],\n",
       "       [-1.10298500e+00,  7.30222786e+00],\n",
       "       [-1.79351372e+00,  7.58086944e+00],\n",
       "       [-1.51176949e+00,  7.94426307e+00],\n",
       "       [ 9.59360742e-01,  4.56078645e+00],\n",
       "       [-6.01337393e-01,  6.29994922e+00],\n",
       "       [ 2.24592863e-01,  4.77028154e+00],\n",
       "       [ 1.56724897e+00,  1.78090633e-02],\n",
       "       [-1.03395259e+00,  2.92105785e+00],\n",
       "       [-9.22268640e-01,  8.09888579e+00],\n",
       "       [-1.88609638e+00,  2.24834407e+00],\n",
       "       [ 1.86873582e+00,  9.56103760e-01],\n",
       "       [ 1.10123507e+00,  4.88977075e+00],\n",
       "       [-1.93213725e+00,  8.30643453e+00],\n",
       "       [ 6.70478769e-01,  4.04094275e+00],\n",
       "       [ 7.43873988e-01,  4.12240568e+00],\n",
       "       [ 1.64003761e+00,  1.81948989e+00],\n",
       "       [ 8.15468056e-01,  4.78526116e+00],\n",
       "       [-2.63274574e+00,  2.63109786e+00],\n",
       "       [-9.61076361e-01,  1.27407596e+00],\n",
       "       [ 2.13979079e-01,  4.88542535e+00],\n",
       "       [ 1.43472182e+00,  1.30662037e+00],\n",
       "       [ 1.21387411e+00,  3.64795042e+00],\n",
       "       [ 1.08272576e+00,  4.06271877e+00],\n",
       "       [-1.22605234e+00,  8.29620146e+00],\n",
       "       [ 1.48170052e+00,  6.90074595e-01],\n",
       "       [ 1.89593761e+00,  5.18540259e+00],\n",
       "       [-1.32356154e+00,  4.13050840e+00],\n",
       "       [-1.14989863e+00,  7.89325283e+00],\n",
       "       [ 2.46915842e+00,  1.67877140e+00],\n",
       "       [ 2.31102276e+00,  1.30380848e+00],\n",
       "       [ 5.72793810e-01,  4.08805543e+00],\n",
       "       [-9.67794989e-01,  3.12186125e+00],\n",
       "       [ 2.62492001e+00,  9.50194405e-01],\n",
       "       [ 1.68353782e+00,  4.19583243e+00],\n",
       "       [-2.22131717e+00,  2.73050691e+00],\n",
       "       [-1.57846247e+00,  3.03445802e+00],\n",
       "       [ 8.15155229e-02,  4.56742235e+00],\n",
       "       [ 1.43289271e+00,  4.37679234e+00],\n",
       "       [ 1.06269622e+00,  5.17635143e+00],\n",
       "       [ 7.67522789e-01,  4.39759671e+00],\n",
       "       [ 2.47019077e+00,  1.31451315e+00],\n",
       "       [-1.73163168e+00,  7.16447286e+00],\n",
       "       [ 3.47138300e-01,  3.45177657e+00],\n",
       "       [-1.00140436e+00,  2.84881778e+00],\n",
       "       [ 1.01618041e+00,  4.48527047e+00],\n",
       "       [ 5.59529363e-01,  4.21400660e+00],\n",
       "       [-2.11821046e+00,  2.03478126e+00],\n",
       "       [-1.36219420e+00,  2.38333321e+00],\n",
       "       [-2.78366586e+00,  2.99211541e+00],\n",
       "       [ 1.65225163e+00,  3.65582842e+00],\n",
       "       [-1.93960658e+00,  2.18943582e+00],\n",
       "       [-1.81487687e+00,  7.97832190e+00],\n",
       "       [ 1.20212540e+00,  3.64414685e+00],\n",
       "       [-9.69200946e-01,  3.26721702e+00],\n",
       "       [ 1.86985974e+00, -1.07938624e-01],\n",
       "       [-1.80701134e+00,  2.06773859e+00],\n",
       "       [ 1.21767506e+00,  3.89290127e+00],\n",
       "       [-1.48368917e+00,  6.00777418e+00],\n",
       "       [-1.56387985e+00,  2.85349910e+00],\n",
       "       [-6.86210297e-01,  8.68285664e+00],\n",
       "       [ 1.07627418e+00,  4.68480619e+00],\n",
       "       [-9.75986627e-01,  6.73761577e+00],\n",
       "       [ 1.37964693e+00,  4.54826443e+00],\n",
       "       [-1.64129611e+00,  2.68097255e+00],\n",
       "       [-1.84892963e-03,  4.58145668e+00],\n",
       "       [ 1.71444449e+00,  5.02521524e+00],\n",
       "       [-1.40524304e+00,  7.72611315e+00],\n",
       "       [-7.08184904e-01,  2.50421275e+00],\n",
       "       [-8.85798374e-01,  2.64585078e+00],\n",
       "       [ 1.98436909e+00,  4.89556738e-01],\n",
       "       [ 2.95195825e+00, -3.44327355e-01],\n",
       "       [ 4.31891060e-01,  4.33495456e+00],\n",
       "       [-1.86621694e+00,  7.62549400e+00],\n",
       "       [ 2.52706430e+00,  6.17812202e-01],\n",
       "       [ 2.04067185e+00,  4.54845114e-01],\n",
       "       [-2.58043836e+00,  3.18844294e+00],\n",
       "       [ 1.61990909e+00,  6.76452867e-02],\n",
       "       [-2.58802708e+00,  3.13117134e+00],\n",
       "       [ 4.43598630e-01,  3.11530945e+00],\n",
       "       [-4.56773649e-01,  7.30600872e+00],\n",
       "       [-1.12867566e+00,  7.80509789e+00],\n",
       "       [ 2.13003529e+00,  5.19209620e+00],\n",
       "       [ 1.00372519e+00,  4.19147702e+00],\n",
       "       [-1.39346767e+00,  8.74641672e+00],\n",
       "       [ 7.28098690e-01,  3.85531444e+00],\n",
       "       [ 8.93499638e-01,  1.01093082e+00],\n",
       "       [-1.10782972e+00,  2.92014479e+00],\n",
       "       [ 7.89338559e-01,  4.33748653e+00],\n",
       "       [ 1.97553917e+00,  7.18989132e-01],\n",
       "       [-1.24902582e+00,  3.08533972e+00],\n",
       "       [-1.07768797e+00,  8.88106128e+00],\n",
       "       [-1.86849125e+00,  3.07982487e+00],\n",
       "       [ 2.76808540e+00,  1.08782923e+00],\n",
       "       [ 2.77180174e-01,  4.84428322e+00],\n",
       "       [ 3.41085289e+00,  8.72309369e-01],\n",
       "       [-1.58084155e+00,  7.55307742e+00],\n",
       "       [-1.53027550e+00,  7.70542113e+00],\n",
       "       [-1.82455840e+00,  7.35958960e+00],\n",
       "       [-1.68568257e+00,  7.95339446e+00],\n",
       "       [-1.65104622e+00,  3.44598961e+00],\n",
       "       [-1.30440901e+00,  3.00311934e+00],\n",
       "       [-7.30698168e-01,  6.24208856e+00],\n",
       "       [ 2.40615694e+00,  4.87047502e+00],\n",
       "       [-1.53631328e+00,  3.01443916e+00],\n",
       "       [ 1.48859977e+00,  6.51633844e-01],\n",
       "       [ 5.14320434e-01,  4.62733684e+00],\n",
       "       [-1.81469750e+00,  3.29009724e+00],\n",
       "       [-1.93731055e+00,  3.91361274e+00],\n",
       "       [-6.14907097e-01,  3.94963585e+00],\n",
       "       [ 2.03169783e+00,  1.96807561e-01],\n",
       "       [ 2.14917144e+00,  1.03697228e+00],\n",
       "       [-1.36999388e+00,  7.76953035e+00],\n",
       "       [ 9.14338767e-01,  4.55014643e+00],\n",
       "       [ 3.33818506e-01,  4.93645836e+00],\n",
       "       [-2.15968109e+00,  3.41003096e+00],\n",
       "       [ 1.36678633e+00,  6.34971633e-01],\n",
       "       [-5.71099336e-01,  8.13306058e+00],\n",
       "       [-1.00552592e+00,  3.08400540e+00],\n",
       "       [ 1.49493180e+00,  3.85848832e+00],\n",
       "       [-5.90447667e-01,  7.69493053e+00],\n",
       "       [ 7.15177948e-01,  5.41334556e+00],\n",
       "       [ 2.11390250e+00,  1.24743587e+00],\n",
       "       [ 1.20083098e+00,  6.01671730e-01],\n",
       "       [-2.54576750e+00,  3.15025055e+00],\n",
       "       [-1.95866665e+00,  2.43008647e+00],\n",
       "       [ 2.33812285e+00,  3.43116792e+00],\n",
       "       [ 3.35320909e+00,  1.69958043e+00],\n",
       "       [ 1.84287117e+00,  7.26928839e-02],\n",
       "       [ 1.32000621e+00,  1.40428145e+00],\n",
       "       [ 2.09680545e+00,  4.84741412e+00],\n",
       "       [-1.24307904e+00,  8.15166254e+00],\n",
       "       [-1.85908090e+00,  7.78874716e+00],\n",
       "       [ 2.74666646e+00,  1.54543482e+00],\n",
       "       [ 2.60778282e+00,  1.08890025e+00],\n",
       "       [ 1.65991049e+00,  3.56289184e+00],\n",
       "       [ 2.35151259e+00,  8.28001297e-01],\n",
       "       [ 2.22322228e+00,  8.38773426e-01],\n",
       "       [ 3.22881491e+00,  1.13171965e+00],\n",
       "       [-1.55876720e+00,  7.24816210e+00],\n",
       "       [-6.46956784e-01,  3.42941343e+00],\n",
       "       [-1.32688818e+00,  8.51530794e+00],\n",
       "       [ 9.17198564e-01,  3.90570036e+00],\n",
       "       [ 2.29469533e+00, -7.65891994e-01],\n",
       "       [ 1.81559810e+00,  1.11969719e+00],\n",
       "       [-1.12016775e+00,  7.11031582e+00],\n",
       "       [-1.65507124e+00,  8.61416749e+00],\n",
       "       [-1.27567815e+00,  7.96776461e+00],\n",
       "       [ 1.97369770e+00,  1.57979848e+00],\n",
       "       [ 2.51834185e+00,  1.39176615e+00],\n",
       "       [ 4.38990142e-01,  4.53592883e+00],\n",
       "       [ 3.69478657e-01,  7.79110522e+00],\n",
       "       [-1.79145759e+00,  2.74966896e+00]])"
      ]
     },
     "execution_count": 25,
     "metadata": {},
     "output_type": "execute_result"
    }
   ],
   "source": [
    "data"
   ]
  },
  {
   "cell_type": "code",
   "execution_count": 26,
   "id": "83a2ca83-1129-4e9f-96ee-fe6e86355c87",
   "metadata": {},
   "outputs": [
    {
     "data": {
      "text/plain": [
       "array([1, 3, 0, 3, 1, 1, 2, 0, 3, 3, 2, 3, 0, 3, 1, 0, 0, 1, 2, 2, 1, 1,\n",
       "       0, 2, 2, 0, 1, 0, 2, 0, 3, 3, 0, 3, 3, 3, 3, 3, 2, 1, 0, 2, 0, 0,\n",
       "       2, 2, 3, 2, 3, 1, 2, 1, 3, 1, 1, 2, 3, 2, 3, 1, 3, 0, 3, 2, 2, 2,\n",
       "       3, 1, 3, 2, 0, 2, 3, 2, 2, 3, 2, 0, 1, 3, 1, 0, 1, 1, 3, 0, 1, 0,\n",
       "       3, 3, 0, 1, 3, 2, 2, 0, 1, 1, 0, 2, 3, 1, 3, 1, 0, 1, 1, 0, 3, 0,\n",
       "       2, 2, 1, 3, 1, 0, 3, 1, 1, 0, 2, 1, 2, 1, 1, 1, 1, 2, 1, 2, 3, 2,\n",
       "       2, 1, 3, 2, 2, 3, 0, 3, 3, 2, 0, 2, 0, 2, 3, 0, 3, 3, 3, 0, 3, 0,\n",
       "       1, 2, 3, 2, 1, 0, 3, 0, 0, 1, 0, 2, 2, 0, 1, 0, 0, 3, 1, 0, 2, 3,\n",
       "       1, 1, 0, 2, 1, 0, 2, 2, 0, 0, 0, 0, 1, 3, 0, 2, 0, 0, 2, 2, 2, 0,\n",
       "       2, 3, 0, 2, 1, 2, 0, 3, 2, 3, 0, 3, 0, 2, 0, 0, 3, 2, 2, 1, 1, 0,\n",
       "       3, 1, 1, 2, 1, 2, 0, 3, 3, 0, 0, 3, 0, 1, 2, 0, 1, 2, 3, 2, 1, 0,\n",
       "       1, 3, 3, 3, 3, 2, 2, 3, 0, 2, 1, 0, 2, 2, 2, 1, 1, 3, 0, 0, 2, 1,\n",
       "       3, 2, 0, 3, 0, 1, 1, 2, 2, 0, 1, 1, 1, 0, 3, 3, 1, 1, 0, 1, 1, 1,\n",
       "       3, 2, 3, 0, 1, 1, 3, 3, 3, 1, 1, 0, 3, 2])"
      ]
     },
     "execution_count": 26,
     "metadata": {},
     "output_type": "execute_result"
    }
   ],
   "source": [
    "target"
   ]
  },
  {
   "cell_type": "code",
   "execution_count": 30,
   "id": "6a1d4acc-4bda-4efc-b585-e36a0cc0f473",
   "metadata": {},
   "outputs": [
    {
     "data": {
      "text/plain": [
       "{0, 1, 2, 3}"
      ]
     },
     "execution_count": 30,
     "metadata": {},
     "output_type": "execute_result"
    }
   ],
   "source": [
    "set(target)"
   ]
  },
  {
   "cell_type": "code",
   "execution_count": 38,
   "id": "f80c8a9c-2286-4baf-b1b6-ea1997cc86be",
   "metadata": {},
   "outputs": [
    {
     "data": {
      "text/html": [
       "<div>\n",
       "<style scoped>\n",
       "    .dataframe tbody tr th:only-of-type {\n",
       "        vertical-align: middle;\n",
       "    }\n",
       "\n",
       "    .dataframe tbody tr th {\n",
       "        vertical-align: top;\n",
       "    }\n",
       "\n",
       "    .dataframe thead th {\n",
       "        text-align: right;\n",
       "    }\n",
       "</style>\n",
       "<table border=\"1\" class=\"dataframe\">\n",
       "  <thead>\n",
       "    <tr style=\"text-align: right;\">\n",
       "      <th></th>\n",
       "      <th>A</th>\n",
       "      <th>B</th>\n",
       "    </tr>\n",
       "  </thead>\n",
       "  <tbody>\n",
       "    <tr>\n",
       "      <th>0</th>\n",
       "      <td>0.836857</td>\n",
       "      <td>2.136359</td>\n",
       "    </tr>\n",
       "    <tr>\n",
       "      <th>1</th>\n",
       "      <td>-1.413658</td>\n",
       "      <td>7.409623</td>\n",
       "    </tr>\n",
       "    <tr>\n",
       "      <th>2</th>\n",
       "      <td>1.155213</td>\n",
       "      <td>5.099619</td>\n",
       "    </tr>\n",
       "    <tr>\n",
       "      <th>3</th>\n",
       "      <td>-1.018616</td>\n",
       "      <td>7.814915</td>\n",
       "    </tr>\n",
       "    <tr>\n",
       "      <th>4</th>\n",
       "      <td>1.271351</td>\n",
       "      <td>1.892542</td>\n",
       "    </tr>\n",
       "  </tbody>\n",
       "</table>\n",
       "</div>"
      ],
      "text/plain": [
       "          A         B\n",
       "0  0.836857  2.136359\n",
       "1 -1.413658  7.409623\n",
       "2  1.155213  5.099619\n",
       "3 -1.018616  7.814915\n",
       "4  1.271351  1.892542"
      ]
     },
     "execution_count": 38,
     "metadata": {},
     "output_type": "execute_result"
    }
   ],
   "source": [
    "data_df = pd.DataFrame(data, columns = ['A', 'B'])\n",
    "data_df.head()"
   ]
  },
  {
   "cell_type": "code",
   "execution_count": 39,
   "id": "e2c6d770-7040-40dc-a7a5-f699d3615460",
   "metadata": {},
   "outputs": [
    {
     "data": {
      "text/plain": [
       "(300, 2)"
      ]
     },
     "execution_count": 39,
     "metadata": {},
     "output_type": "execute_result"
    }
   ],
   "source": [
    "data_df.shape"
   ]
  },
  {
   "cell_type": "code",
   "execution_count": 52,
   "id": "b99b6456-a520-4278-92f8-791f0d64c610",
   "metadata": {},
   "outputs": [
    {
     "data": {
      "text/html": [
       "<div>\n",
       "<style scoped>\n",
       "    .dataframe tbody tr th:only-of-type {\n",
       "        vertical-align: middle;\n",
       "    }\n",
       "\n",
       "    .dataframe tbody tr th {\n",
       "        vertical-align: top;\n",
       "    }\n",
       "\n",
       "    .dataframe thead th {\n",
       "        text-align: right;\n",
       "    }\n",
       "</style>\n",
       "<table border=\"1\" class=\"dataframe\">\n",
       "  <thead>\n",
       "    <tr style=\"text-align: right;\">\n",
       "      <th></th>\n",
       "      <th>A</th>\n",
       "      <th>B</th>\n",
       "      <th>Target</th>\n",
       "    </tr>\n",
       "  </thead>\n",
       "  <tbody>\n",
       "    <tr>\n",
       "      <th>0</th>\n",
       "      <td>0.836857</td>\n",
       "      <td>2.136359</td>\n",
       "      <td>1</td>\n",
       "    </tr>\n",
       "    <tr>\n",
       "      <th>1</th>\n",
       "      <td>-1.413658</td>\n",
       "      <td>7.409623</td>\n",
       "      <td>3</td>\n",
       "    </tr>\n",
       "    <tr>\n",
       "      <th>2</th>\n",
       "      <td>1.155213</td>\n",
       "      <td>5.099619</td>\n",
       "      <td>0</td>\n",
       "    </tr>\n",
       "    <tr>\n",
       "      <th>3</th>\n",
       "      <td>-1.018616</td>\n",
       "      <td>7.814915</td>\n",
       "      <td>3</td>\n",
       "    </tr>\n",
       "    <tr>\n",
       "      <th>4</th>\n",
       "      <td>1.271351</td>\n",
       "      <td>1.892542</td>\n",
       "      <td>1</td>\n",
       "    </tr>\n",
       "  </tbody>\n",
       "</table>\n",
       "</div>"
      ],
      "text/plain": [
       "          A         B  Target\n",
       "0  0.836857  2.136359       1\n",
       "1 -1.413658  7.409623       3\n",
       "2  1.155213  5.099619       0\n",
       "3 -1.018616  7.814915       3\n",
       "4  1.271351  1.892542       1"
      ]
     },
     "execution_count": 52,
     "metadata": {},
     "output_type": "execute_result"
    }
   ],
   "source": [
    "data_df['Target'] = target\n",
    "data_df.head()"
   ]
  },
  {
   "cell_type": "code",
   "execution_count": 53,
   "id": "3ef72550-a62d-48c2-9be5-b2f49fdd4865",
   "metadata": {},
   "outputs": [
    {
     "data": {
      "image/png": "[encoded data removed]",
      "text/plain": [
       "<Figure size 640x480 with 1 Axes>"
      ]
     },
     "metadata": {},
     "output_type": "display_data"
    }
   ],
   "source": [
    "plt.scatter(data[:, 0], data[:, 1])\n",
    "plt.show()"
   ]
  },
  {
   "cell_type": "code",
   "execution_count": 51,
   "id": "5c641245-2a24-4b94-ab7d-69602fe66d3e",
   "metadata": {},
   "outputs": [
    {
     "data": {
      "image/png": "[encoded data removed]",
      "text/plain": [
       "<Figure size 640x480 with 1 Axes>"
      ]
     },
     "metadata": {},
     "output_type": "display_data"
    }
   ],
   "source": [
    "sns.scatterplot(x = data_df['A'], y = data_df['B'], hue = data_df['Target'], data = data_df, palette = 'RdGy')\n",
    "plt.show()"
   ]
  },
  {
   "cell_type": "markdown",
   "id": "409ef38c-9f79-4a74-8bca-7de729000118",
   "metadata": {},
   "source": [
    "we need to group the data based on the dataset \n",
    "we already have target value with 4 grouping clusters so we can directly use n_clusters as 4 but we need to select for unsupervised dataset"
   ]
  },
  {
   "cell_type": "code",
   "execution_count": 56,
   "id": "1c4e96cb-c39c-4003-8142-da6ad9337f40",
   "metadata": {},
   "outputs": [],
   "source": [
    "from sklearn.cluster import KMeans"
   ]
  },
  {
   "cell_type": "code",
   "execution_count": 57,
   "id": "4ad5dcfb-6538-4924-83f3-80b37d885b36",
   "metadata": {},
   "outputs": [],
   "source": [
    "kmeans = KMeans(n_clusters = 4)"
   ]
  },
  {
   "cell_type": "markdown",
   "id": "c9ac00b3-c56c-4942-a27d-60f40bb5bcae",
   "metadata": {},
   "source": [
    "we need to divide the data for training and testing after dividing it into dependent and independent data"
   ]
  },
  {
   "cell_type": "code",
   "execution_count": 58,
   "id": "790dee6a-eb57-4f3a-a558-59b6af6e3a6f",
   "metadata": {},
   "outputs": [],
   "source": [
    "x = data_df.iloc[:, :-1]\n",
    "y = data_df.iloc[:, -1]"
   ]
  },
  {
   "cell_type": "code",
   "execution_count": 59,
   "id": "7f6d21bb-83cb-45b5-bef8-6e25f8d8fdc9",
   "metadata": {},
   "outputs": [
    {
     "data": {
      "text/html": [
       "<div>\n",
       "<style scoped>\n",
       "    .dataframe tbody tr th:only-of-type {\n",
       "        vertical-align: middle;\n",
       "    }\n",
       "\n",
       "    .dataframe tbody tr th {\n",
       "        vertical-align: top;\n",
       "    }\n",
       "\n",
       "    .dataframe thead th {\n",
       "        text-align: right;\n",
       "    }\n",
       "</style>\n",
       "<table border=\"1\" class=\"dataframe\">\n",
       "  <thead>\n",
       "    <tr style=\"text-align: right;\">\n",
       "      <th></th>\n",
       "      <th>A</th>\n",
       "      <th>B</th>\n",
       "    </tr>\n",
       "  </thead>\n",
       "  <tbody>\n",
       "    <tr>\n",
       "      <th>0</th>\n",
       "      <td>0.836857</td>\n",
       "      <td>2.136359</td>\n",
       "    </tr>\n",
       "    <tr>\n",
       "      <th>1</th>\n",
       "      <td>-1.413658</td>\n",
       "      <td>7.409623</td>\n",
       "    </tr>\n",
       "    <tr>\n",
       "      <th>2</th>\n",
       "      <td>1.155213</td>\n",
       "      <td>5.099619</td>\n",
       "    </tr>\n",
       "    <tr>\n",
       "      <th>3</th>\n",
       "      <td>-1.018616</td>\n",
       "      <td>7.814915</td>\n",
       "    </tr>\n",
       "    <tr>\n",
       "      <th>4</th>\n",
       "      <td>1.271351</td>\n",
       "      <td>1.892542</td>\n",
       "    </tr>\n",
       "  </tbody>\n",
       "</table>\n",
       "</div>"
      ],
      "text/plain": [
       "          A         B\n",
       "0  0.836857  2.136359\n",
       "1 -1.413658  7.409623\n",
       "2  1.155213  5.099619\n",
       "3 -1.018616  7.814915\n",
       "4  1.271351  1.892542"
      ]
     },
     "execution_count": 59,
     "metadata": {},
     "output_type": "execute_result"
    }
   ],
   "source": [
    "x.head()"
   ]
  },
  {
   "cell_type": "code",
   "execution_count": 62,
   "id": "71518393-765f-4ce3-90e4-1b9269d566b5",
   "metadata": {},
   "outputs": [
    {
     "name": "stdout",
     "output_type": "stream",
     "text": [
      "0    1\n",
      "1    3\n",
      "2    0\n",
      "3    3\n",
      "4    1\n",
      "Name: Target, dtype: int32\n",
      "<class 'pandas.core.series.Series'>\n"
     ]
    }
   ],
   "source": [
    "print(y.head())\n",
    "print(type(y))"
   ]
  },
  {
   "cell_type": "code",
   "execution_count": 105,
   "id": "bccd10ee-2d29-4cba-a68e-23eb8ad01631",
   "metadata": {},
   "outputs": [],
   "source": [
    "from sklearn.model_selection import train_test_split\n",
    "x_train, x_test, y_train, y_test = train_test_split(x, y, test_size = 0.2)"
   ]
  },
  {
   "cell_type": "code",
   "execution_count": 106,
   "id": "9f2ffe7c-d19c-4645-9ae9-d9e68b687a21",
   "metadata": {},
   "outputs": [
    {
     "data": {
      "text/html": [
       "<div>\n",
       "<style scoped>\n",
       "    .dataframe tbody tr th:only-of-type {\n",
       "        vertical-align: middle;\n",
       "    }\n",
       "\n",
       "    .dataframe tbody tr th {\n",
       "        vertical-align: top;\n",
       "    }\n",
       "\n",
       "    .dataframe thead th {\n",
       "        text-align: right;\n",
       "    }\n",
       "</style>\n",
       "<table border=\"1\" class=\"dataframe\">\n",
       "  <thead>\n",
       "    <tr style=\"text-align: right;\">\n",
       "      <th></th>\n",
       "      <th>A</th>\n",
       "      <th>B</th>\n",
       "    </tr>\n",
       "  </thead>\n",
       "  <tbody>\n",
       "    <tr>\n",
       "      <th>274</th>\n",
       "      <td>3.353209</td>\n",
       "      <td>1.699580</td>\n",
       "    </tr>\n",
       "    <tr>\n",
       "      <th>146</th>\n",
       "      <td>-1.381819</td>\n",
       "      <td>7.287612</td>\n",
       "    </tr>\n",
       "    <tr>\n",
       "      <th>56</th>\n",
       "      <td>-0.041502</td>\n",
       "      <td>7.808703</td>\n",
       "    </tr>\n",
       "    <tr>\n",
       "      <th>235</th>\n",
       "      <td>0.789339</td>\n",
       "      <td>4.337487</td>\n",
       "    </tr>\n",
       "    <tr>\n",
       "      <th>244</th>\n",
       "      <td>-1.530276</td>\n",
       "      <td>7.705421</td>\n",
       "    </tr>\n",
       "    <tr>\n",
       "      <th>...</th>\n",
       "      <td>...</td>\n",
       "      <td>...</td>\n",
       "    </tr>\n",
       "    <tr>\n",
       "      <th>270</th>\n",
       "      <td>1.200831</td>\n",
       "      <td>0.601672</td>\n",
       "    </tr>\n",
       "    <tr>\n",
       "      <th>6</th>\n",
       "      <td>-1.808223</td>\n",
       "      <td>1.597017</td>\n",
       "    </tr>\n",
       "    <tr>\n",
       "      <th>228</th>\n",
       "      <td>-1.128676</td>\n",
       "      <td>7.805098</td>\n",
       "    </tr>\n",
       "    <tr>\n",
       "      <th>157</th>\n",
       "      <td>-1.886096</td>\n",
       "      <td>2.248344</td>\n",
       "    </tr>\n",
       "    <tr>\n",
       "      <th>152</th>\n",
       "      <td>-0.601337</td>\n",
       "      <td>6.299949</td>\n",
       "    </tr>\n",
       "  </tbody>\n",
       "</table>\n",
       "<p>240 rows × 2 columns</p>\n",
       "</div>"
      ],
      "text/plain": [
       "            A         B\n",
       "274  3.353209  1.699580\n",
       "146 -1.381819  7.287612\n",
       "56  -0.041502  7.808703\n",
       "235  0.789339  4.337487\n",
       "244 -1.530276  7.705421\n",
       "..        ...       ...\n",
       "270  1.200831  0.601672\n",
       "6   -1.808223  1.597017\n",
       "228 -1.128676  7.805098\n",
       "157 -1.886096  2.248344\n",
       "152 -0.601337  6.299949\n",
       "\n",
       "[240 rows x 2 columns]"
      ]
     },
     "execution_count": 106,
     "metadata": {},
     "output_type": "execute_result"
    }
   ],
   "source": [
    "x_train"
   ]
  },
  {
   "cell_type": "code",
   "execution_count": 64,
   "id": "42bfa0ed-63a1-457a-a157-23f2ab6a7fa6",
   "metadata": {},
   "outputs": [
    {
     "data": {
      "text/plain": [
       "(240, 2)"
      ]
     },
     "execution_count": 64,
     "metadata": {},
     "output_type": "execute_result"
    }
   ],
   "source": [
    "x_train.shape"
   ]
  },
  {
   "cell_type": "code",
   "execution_count": 65,
   "id": "7d811b3f-4d2a-4c22-9d3b-f01da8fde53a",
   "metadata": {},
   "outputs": [
    {
     "data": {
      "text/plain": [
       "(60, 2)"
      ]
     },
     "execution_count": 65,
     "metadata": {},
     "output_type": "execute_result"
    }
   ],
   "source": [
    "x_test.shape"
   ]
  },
  {
   "cell_type": "code",
   "execution_count": 66,
   "id": "ced644a8-661c-4ad0-a299-df741321923d",
   "metadata": {},
   "outputs": [
    {
     "name": "stderr",
     "output_type": "stream",
     "text": [
      "C:\\Users\\A\\anaconda3\\Lib\\site-packages\\sklearn\\cluster\\_kmeans.py:1446: UserWarning: KMeans is known to have a memory leak on Windows with MKL, when there are less chunks than available threads. You can avoid it by setting the environment variable OMP_NUM_THREADS=1.\n",
      "  warnings.warn(\n"
     ]
    },
    {
     "data": {
      "text/html": [
       "<style>#sk-container-id-1 {\n",
       "  /* Definition of color scheme common for light and dark mode */\n",
       "  --sklearn-color-text: black;\n",
       "  --sklearn-color-line: gray;\n",
       "  /* Definition of color scheme for unfitted estimators */\n",
       "  --sklearn-color-unfitted-level-0: #fff5e6;\n",
       "  --sklearn-color-unfitted-level-1: #f6e4d2;\n",
       "  --sklearn-color-unfitted-level-2: #ffe0b3;\n",
       "  --sklearn-color-unfitted-level-3: chocolate;\n",
       "  /* Definition of color scheme for fitted estimators */\n",
       "  --sklearn-color-fitted-level-0: #f0f8ff;\n",
       "  --sklearn-color-fitted-level-1: #d4ebff;\n",
       "  --sklearn-color-fitted-level-2: #b3dbfd;\n",
       "  --sklearn-color-fitted-level-3: cornflowerblue;\n",
       "\n",
       "  /* Specific color for light theme */\n",
       "  --sklearn-color-text-on-default-background: var(--sg-text-color, var(--theme-code-foreground, var(--jp-content-font-color1, black)));\n",
       "  --sklearn-color-background: var(--sg-background-color, var(--theme-background, var(--jp-layout-color0, white)));\n",
       "  --sklearn-color-border-box: var(--sg-text-color, var(--theme-code-foreground, var(--jp-content-font-color1, black)));\n",
       "  --sklearn-color-icon: #696969;\n",
       "\n",
       "  @media (prefers-color-scheme: dark) {\n",
       "    /* Redefinition of color scheme for dark theme */\n",
       "    --sklearn-color-text-on-default-background: var(--sg-text-color, var(--theme-code-foreground, var(--jp-content-font-color1, white)));\n",
       "    --sklearn-color-background: var(--sg-background-color, var(--theme-background, var(--jp-layout-color0, #111)));\n",
       "    --sklearn-color-border-box: var(--sg-text-color, var(--theme-code-foreground, var(--jp-content-font-color1, white)));\n",
       "    --sklearn-color-icon: #878787;\n",
       "  }\n",
       "}\n",
       "\n",
       "#sk-container-id-1 {\n",
       "  color: var(--sklearn-color-text);\n",
       "}\n",
       "\n",
       "#sk-container-id-1 pre {\n",
       "  padding: 0;\n",
       "}\n",
       "\n",
       "#sk-container-id-1 input.sk-hidden--visually {\n",
       "  border: 0;\n",
       "  clip: rect(1px 1px 1px 1px);\n",
       "  clip: rect(1px, 1px, 1px, 1px);\n",
       "  height: 1px;\n",
       "  margin: -1px;\n",
       "  overflow: hidden;\n",
       "  padding: 0;\n",
       "  position: absolute;\n",
       "  width: 1px;\n",
       "}\n",
       "\n",
       "#sk-container-id-1 div.sk-dashed-wrapped {\n",
       "  border: 1px dashed var(--sklearn-color-line);\n",
       "  margin: 0 0.4em 0.5em 0.4em;\n",
       "  box-sizing: border-box;\n",
       "  padding-bottom: 0.4em;\n",
       "  background-color: var(--sklearn-color-background);\n",
       "}\n",
       "\n",
       "#sk-container-id-1 div.sk-container {\n",
       "  /* jupyter's `normalize.less` sets `[hidden] { display: none; }`\n",
       "     but bootstrap.min.css set `[hidden] { display: none !important; }`\n",
       "     so we also need the `!important` here to be able to override the\n",
       "     default hidden behavior on the sphinx rendered scikit-learn.org.\n",
       "     See: https://github.com/scikit-learn/scikit-learn/issues/21755 */\n",
       "  display: inline-block !important;\n",
       "  position: relative;\n",
       "}\n",
       "\n",
       "#sk-container-id-1 div.sk-text-repr-fallback {\n",
       "  display: none;\n",
       "}\n",
       "\n",
       "div.sk-parallel-item,\n",
       "div.sk-serial,\n",
       "div.sk-item {\n",
       "  /* draw centered vertical line to link estimators */\n",
       "  background-image: linear-gradient(var(--sklearn-color-text-on-default-background), var(--sklearn-color-text-on-default-background));\n",
       "  background-size: 2px 100%;\n",
       "  background-repeat: no-repeat;\n",
       "  background-position: center center;\n",
       "}\n",
       "\n",
       "/* Parallel-specific style estimator block */\n",
       "\n",
       "#sk-container-id-1 div.sk-parallel-item::after {\n",
       "  content: \"\";\n",
       "  width: 100%;\n",
       "  border-bottom: 2px solid var(--sklearn-color-text-on-default-background);\n",
       "  flex-grow: 1;\n",
       "}\n",
       "\n",
       "#sk-container-id-1 div.sk-parallel {\n",
       "  display: flex;\n",
       "  align-items: stretch;\n",
       "  justify-content: center;\n",
       "  background-color: var(--sklearn-color-background);\n",
       "  position: relative;\n",
       "}\n",
       "\n",
       "#sk-container-id-1 div.sk-parallel-item {\n",
       "  display: flex;\n",
       "  flex-direction: column;\n",
       "}\n",
       "\n",
       "#sk-container-id-1 div.sk-parallel-item:first-child::after {\n",
       "  align-self: flex-end;\n",
       "  width: 50%;\n",
       "}\n",
       "\n",
       "#sk-container-id-1 div.sk-parallel-item:last-child::after {\n",
       "  align-self: flex-start;\n",
       "  width: 50%;\n",
       "}\n",
       "\n",
       "#sk-container-id-1 div.sk-parallel-item:only-child::after {\n",
       "  width: 0;\n",
       "}\n",
       "\n",
       "/* Serial-specific style estimator block */\n",
       "\n",
       "#sk-container-id-1 div.sk-serial {\n",
       "  display: flex;\n",
       "  flex-direction: column;\n",
       "  align-items: center;\n",
       "  background-color: var(--sklearn-color-background);\n",
       "  padding-right: 1em;\n",
       "  padding-left: 1em;\n",
       "}\n",
       "\n",
       "\n",
       "/* Toggleable style: style used for estimator/Pipeline/ColumnTransformer box that is\n",
       "clickable and can be expanded/collapsed.\n",
       "- Pipeline and ColumnTransformer use this feature and define the default style\n",
       "- Estimators will overwrite some part of the style using the `sk-estimator` class\n",
       "*/\n",
       "\n",
       "/* Pipeline and ColumnTransformer style (default) */\n",
       "\n",
       "#sk-container-id-1 div.sk-toggleable {\n",
       "  /* Default theme specific background. It is overwritten whether we have a\n",
       "  specific estimator or a Pipeline/ColumnTransformer */\n",
       "  background-color: var(--sklearn-color-background);\n",
       "}\n",
       "\n",
       "/* Toggleable label */\n",
       "#sk-container-id-1 label.sk-toggleable__label {\n",
       "  cursor: pointer;\n",
       "  display: block;\n",
       "  width: 100%;\n",
       "  margin-bottom: 0;\n",
       "  padding: 0.5em;\n",
       "  box-sizing: border-box;\n",
       "  text-align: center;\n",
       "}\n",
       "\n",
       "#sk-container-id-1 label.sk-toggleable__label-arrow:before {\n",
       "  /* Arrow on the left of the label */\n",
       "  content: \"▸\";\n",
       "  float: left;\n",
       "  margin-right: 0.25em;\n",
       "  color: var(--sklearn-color-icon);\n",
       "}\n",
       "\n",
       "#sk-container-id-1 label.sk-toggleable__label-arrow:hover:before {\n",
       "  color: var(--sklearn-color-text);\n",
       "}\n",
       "\n",
       "/* Toggleable content - dropdown */\n",
       "\n",
       "#sk-container-id-1 div.sk-toggleable__content {\n",
       "  max-height: 0;\n",
       "  max-width: 0;\n",
       "  overflow: hidden;\n",
       "  text-align: left;\n",
       "  /* unfitted */\n",
       "  background-color: var(--sklearn-color-unfitted-level-0);\n",
       "}\n",
       "\n",
       "#sk-container-id-1 div.sk-toggleable__content.fitted {\n",
       "  /* fitted */\n",
       "  background-color: var(--sklearn-color-fitted-level-0);\n",
       "}\n",
       "\n",
       "#sk-container-id-1 div.sk-toggleable__content pre {\n",
       "  margin: 0.2em;\n",
       "  border-radius: 0.25em;\n",
       "  color: var(--sklearn-color-text);\n",
       "  /* unfitted */\n",
       "  background-color: var(--sklearn-color-unfitted-level-0);\n",
       "}\n",
       "\n",
       "#sk-container-id-1 div.sk-toggleable__content.fitted pre {\n",
       "  /* unfitted */\n",
       "  background-color: var(--sklearn-color-fitted-level-0);\n",
       "}\n",
       "\n",
       "#sk-container-id-1 input.sk-toggleable__control:checked~div.sk-toggleable__content {\n",
       "  /* Expand drop-down */\n",
       "  max-height: 200px;\n",
       "  max-width: 100%;\n",
       "  overflow: auto;\n",
       "}\n",
       "\n",
       "#sk-container-id-1 input.sk-toggleable__control:checked~label.sk-toggleable__label-arrow:before {\n",
       "  content: \"▾\";\n",
       "}\n",
       "\n",
       "/* Pipeline/ColumnTransformer-specific style */\n",
       "\n",
       "#sk-container-id-1 div.sk-label input.sk-toggleable__control:checked~label.sk-toggleable__label {\n",
       "  color: var(--sklearn-color-text);\n",
       "  background-color: var(--sklearn-color-unfitted-level-2);\n",
       "}\n",
       "\n",
       "#sk-container-id-1 div.sk-label.fitted input.sk-toggleable__control:checked~label.sk-toggleable__label {\n",
       "  background-color: var(--sklearn-color-fitted-level-2);\n",
       "}\n",
       "\n",
       "/* Estimator-specific style */\n",
       "\n",
       "/* Colorize estimator box */\n",
       "#sk-container-id-1 div.sk-estimator input.sk-toggleable__control:checked~label.sk-toggleable__label {\n",
       "  /* unfitted */\n",
       "  background-color: var(--sklearn-color-unfitted-level-2);\n",
       "}\n",
       "\n",
       "#sk-container-id-1 div.sk-estimator.fitted input.sk-toggleable__control:checked~label.sk-toggleable__label {\n",
       "  /* fitted */\n",
       "  background-color: var(--sklearn-color-fitted-level-2);\n",
       "}\n",
       "\n",
       "#sk-container-id-1 div.sk-label label.sk-toggleable__label,\n",
       "#sk-container-id-1 div.sk-label label {\n",
       "  /* The background is the default theme color */\n",
       "  color: var(--sklearn-color-text-on-default-background);\n",
       "}\n",
       "\n",
       "/* On hover, darken the color of the background */\n",
       "#sk-container-id-1 div.sk-label:hover label.sk-toggleable__label {\n",
       "  color: var(--sklearn-color-text);\n",
       "  background-color: var(--sklearn-color-unfitted-level-2);\n",
       "}\n",
       "\n",
       "/* Label box, darken color on hover, fitted */\n",
       "#sk-container-id-1 div.sk-label.fitted:hover label.sk-toggleable__label.fitted {\n",
       "  color: var(--sklearn-color-text);\n",
       "  background-color: var(--sklearn-color-fitted-level-2);\n",
       "}\n",
       "\n",
       "/* Estimator label */\n",
       "\n",
       "#sk-container-id-1 div.sk-label label {\n",
       "  font-family: monospace;\n",
       "  font-weight: bold;\n",
       "  display: inline-block;\n",
       "  line-height: 1.2em;\n",
       "}\n",
       "\n",
       "#sk-container-id-1 div.sk-label-container {\n",
       "  text-align: center;\n",
       "}\n",
       "\n",
       "/* Estimator-specific */\n",
       "#sk-container-id-1 div.sk-estimator {\n",
       "  font-family: monospace;\n",
       "  border: 1px dotted var(--sklearn-color-border-box);\n",
       "  border-radius: 0.25em;\n",
       "  box-sizing: border-box;\n",
       "  margin-bottom: 0.5em;\n",
       "  /* unfitted */\n",
       "  background-color: var(--sklearn-color-unfitted-level-0);\n",
       "}\n",
       "\n",
       "#sk-container-id-1 div.sk-estimator.fitted {\n",
       "  /* fitted */\n",
       "  background-color: var(--sklearn-color-fitted-level-0);\n",
       "}\n",
       "\n",
       "/* on hover */\n",
       "#sk-container-id-1 div.sk-estimator:hover {\n",
       "  /* unfitted */\n",
       "  background-color: var(--sklearn-color-unfitted-level-2);\n",
       "}\n",
       "\n",
       "#sk-container-id-1 div.sk-estimator.fitted:hover {\n",
       "  /* fitted */\n",
       "  background-color: var(--sklearn-color-fitted-level-2);\n",
       "}\n",
       "\n",
       "/* Specification for estimator info (e.g. \"i\" and \"?\") */\n",
       "\n",
       "/* Common style for \"i\" and \"?\" */\n",
       "\n",
       ".sk-estimator-doc-link,\n",
       "a:link.sk-estimator-doc-link,\n",
       "a:visited.sk-estimator-doc-link {\n",
       "  float: right;\n",
       "  font-size: smaller;\n",
       "  line-height: 1em;\n",
       "  font-family: monospace;\n",
       "  background-color: var(--sklearn-color-background);\n",
       "  border-radius: 1em;\n",
       "  height: 1em;\n",
       "  width: 1em;\n",
       "  text-decoration: none !important;\n",
       "  margin-left: 1ex;\n",
       "  /* unfitted */\n",
       "  border: var(--sklearn-color-unfitted-level-1) 1pt solid;\n",
       "  color: var(--sklearn-color-unfitted-level-1);\n",
       "}\n",
       "\n",
       ".sk-estimator-doc-link.fitted,\n",
       "a:link.sk-estimator-doc-link.fitted,\n",
       "a:visited.sk-estimator-doc-link.fitted {\n",
       "  /* fitted */\n",
       "  border: var(--sklearn-color-fitted-level-1) 1pt solid;\n",
       "  color: var(--sklearn-color-fitted-level-1);\n",
       "}\n",
       "\n",
       "/* On hover */\n",
       "div.sk-estimator:hover .sk-estimator-doc-link:hover,\n",
       ".sk-estimator-doc-link:hover,\n",
       "div.sk-label-container:hover .sk-estimator-doc-link:hover,\n",
       ".sk-estimator-doc-link:hover {\n",
       "  /* unfitted */\n",
       "  background-color: var(--sklearn-color-unfitted-level-3);\n",
       "  color: var(--sklearn-color-background);\n",
       "  text-decoration: none;\n",
       "}\n",
       "\n",
       "div.sk-estimator.fitted:hover .sk-estimator-doc-link.fitted:hover,\n",
       ".sk-estimator-doc-link.fitted:hover,\n",
       "div.sk-label-container:hover .sk-estimator-doc-link.fitted:hover,\n",
       ".sk-estimator-doc-link.fitted:hover {\n",
       "  /* fitted */\n",
       "  background-color: var(--sklearn-color-fitted-level-3);\n",
       "  color: var(--sklearn-color-background);\n",
       "  text-decoration: none;\n",
       "}\n",
       "\n",
       "/* Span, style for the box shown on hovering the info icon */\n",
       ".sk-estimator-doc-link span {\n",
       "  display: none;\n",
       "  z-index: 9999;\n",
       "  position: relative;\n",
       "  font-weight: normal;\n",
       "  right: .2ex;\n",
       "  padding: .5ex;\n",
       "  margin: .5ex;\n",
       "  width: min-content;\n",
       "  min-width: 20ex;\n",
       "  max-width: 50ex;\n",
       "  color: var(--sklearn-color-text);\n",
       "  box-shadow: 2pt 2pt 4pt #999;\n",
       "  /* unfitted */\n",
       "  background: var(--sklearn-color-unfitted-level-0);\n",
       "  border: .5pt solid var(--sklearn-color-unfitted-level-3);\n",
       "}\n",
       "\n",
       ".sk-estimator-doc-link.fitted span {\n",
       "  /* fitted */\n",
       "  background: var(--sklearn-color-fitted-level-0);\n",
       "  border: var(--sklearn-color-fitted-level-3);\n",
       "}\n",
       "\n",
       ".sk-estimator-doc-link:hover span {\n",
       "  display: block;\n",
       "}\n",
       "\n",
       "/* \"?\"-specific style due to the `<a>` HTML tag */\n",
       "\n",
       "#sk-container-id-1 a.estimator_doc_link {\n",
       "  float: right;\n",
       "  font-size: 1rem;\n",
       "  line-height: 1em;\n",
       "  font-family: monospace;\n",
       "  background-color: var(--sklearn-color-background);\n",
       "  border-radius: 1rem;\n",
       "  height: 1rem;\n",
       "  width: 1rem;\n",
       "  text-decoration: none;\n",
       "  /* unfitted */\n",
       "  color: var(--sklearn-color-unfitted-level-1);\n",
       "  border: var(--sklearn-color-unfitted-level-1) 1pt solid;\n",
       "}\n",
       "\n",
       "#sk-container-id-1 a.estimator_doc_link.fitted {\n",
       "  /* fitted */\n",
       "  border: var(--sklearn-color-fitted-level-1) 1pt solid;\n",
       "  color: var(--sklearn-color-fitted-level-1);\n",
       "}\n",
       "\n",
       "/* On hover */\n",
       "#sk-container-id-1 a.estimator_doc_link:hover {\n",
       "  /* unfitted */\n",
       "  background-color: var(--sklearn-color-unfitted-level-3);\n",
       "  color: var(--sklearn-color-background);\n",
       "  text-decoration: none;\n",
       "}\n",
       "\n",
       "#sk-container-id-1 a.estimator_doc_link.fitted:hover {\n",
       "  /* fitted */\n",
       "  background-color: var(--sklearn-color-fitted-level-3);\n",
       "}\n",
       "</style><div id=\"sk-container-id-1\" class=\"sk-top-container\"><div class=\"sk-text-repr-fallback\"><pre>KMeans(n_clusters=4)</pre><b>In a Jupyter environment, please rerun this cell to show the HTML representation or trust the notebook. <br />On GitHub, the HTML representation is unable to render, please try loading this page with nbviewer.org.</b></div><div class=\"sk-container\" hidden><div class=\"sk-item\"><div class=\"sk-estimator fitted sk-toggleable\"><input class=\"sk-toggleable__control sk-hidden--visually\" id=\"sk-estimator-id-1\" type=\"checkbox\" checked><label for=\"sk-estimator-id-1\" class=\"sk-toggleable__label fitted sk-toggleable__label-arrow fitted\">&nbsp;&nbsp;KMeans<a class=\"sk-estimator-doc-link fitted\" rel=\"noreferrer\" target=\"_blank\" href=\"https://scikit-learn.org/1.4/modules/generated/sklearn.cluster.KMeans.html\">?<span>Documentation for KMeans</span></a><span class=\"sk-estimator-doc-link fitted\">i<span>Fitted</span></span></label><div class=\"sk-toggleable__content fitted\"><pre>KMeans(n_clusters=4)</pre></div> </div></div></div></div>"
      ],
      "text/plain": [
       "KMeans(n_clusters=4)"
      ]
     },
     "execution_count": 66,
     "metadata": {},
     "output_type": "execute_result"
    }
   ],
   "source": [
    "kmeans.fit(x_train, y_train)"
   ]
  },
  {
   "cell_type": "code",
   "execution_count": 68,
   "id": "a7080e63-fa9e-4415-ad42-da6539ffc59c",
   "metadata": {},
   "outputs": [
    {
     "name": "stderr",
     "output_type": "stream",
     "text": [
      "C:\\Users\\A\\anaconda3\\Lib\\site-packages\\sklearn\\cluster\\_kmeans.py:1102: FutureWarning: 'sample_weight' was deprecated in version 1.3 and will be removed in 1.5.\n",
      "  warnings.warn(\n"
     ]
    },
    {
     "data": {
      "text/plain": [
       "array([3, 3, 0, 0, 0, 0, 0, 2, 2, 1, 3, 1, 2, 0, 2, 1, 1, 1, 2, 3, 3, 1,\n",
       "       0, 2, 2, 3, 2, 3, 2, 3, 0, 1, 3, 2, 1, 2, 0, 0, 2, 3, 3, 1, 3, 2,\n",
       "       3, 3, 1, 0, 1, 3, 2, 2, 3, 0, 2, 0, 0, 1, 3, 0, 1, 0, 1, 3, 2, 1,\n",
       "       0, 2, 1, 0, 1, 1, 3, 0, 3, 1, 3, 0, 1, 0, 0, 3, 2, 2, 2, 1, 1, 1,\n",
       "       2, 1, 0, 0, 1, 1, 2, 1, 2, 3, 2, 2, 1, 2, 3, 0, 0, 3, 0, 0, 0, 1,\n",
       "       2, 3, 2, 3, 3, 3, 1, 2, 1, 3, 2, 0, 1, 1, 0, 1, 1, 2, 1, 3, 3, 2,\n",
       "       2, 0, 0, 2, 2, 0, 2, 1, 0, 0, 0, 2, 1, 1, 0, 3, 3, 1, 2, 3, 3, 0,\n",
       "       1, 2, 3, 3, 0, 0, 1, 2, 0, 2, 1, 0, 2, 3, 1, 0, 3, 3, 2, 2, 0, 1,\n",
       "       1, 3, 0, 0, 3, 1, 2, 0, 0, 1, 2, 3, 1, 1, 2, 2, 2, 3, 2, 3, 3, 1,\n",
       "       1, 3, 1, 0, 3, 0, 1, 1, 3, 1, 2, 0, 2, 2, 0, 2, 3, 1, 0, 3, 1, 2,\n",
       "       3, 0, 3, 1, 0, 3, 1, 3, 0, 3, 3, 1, 0, 0, 2, 2, 1, 0, 2, 0])"
      ]
     },
     "execution_count": 68,
     "metadata": {},
     "output_type": "execute_result"
    }
   ],
   "source": [
    "y_train_predict = kmeans.predict(x_train, y_train)\n",
    "y_train_predict"
   ]
  },
  {
   "cell_type": "code",
   "execution_count": 73,
   "id": "f82ce5a7-d3fe-4fb4-87d5-d3bdb37fb459",
   "metadata": {},
   "outputs": [
    {
     "name": "stdout",
     "output_type": "stream",
     "text": [
      "[0 1 3 0 3 3 3 2 1 2 1 3 2 1 3 1 2 2 3 2 3 0 0 3 1 2 3 1 2 2 1 3 1 3 0 0 0\n",
      " 2 0 0 2 2 0 3 3 1 1 1 2 3 2 0 0 3 1 2 0 3 2 0]\n"
     ]
    },
    {
     "name": "stderr",
     "output_type": "stream",
     "text": [
      "C:\\Users\\A\\anaconda3\\Lib\\site-packages\\sklearn\\cluster\\_kmeans.py:1102: FutureWarning: 'sample_weight' was deprecated in version 1.3 and will be removed in 1.5.\n",
      "  warnings.warn(\n"
     ]
    }
   ],
   "source": [
    "y_test_predict = kmeans.predict(x_test, y_test)\n",
    "print(y_test_predict)"
   ]
  },
  {
   "cell_type": "code",
   "execution_count": 71,
   "id": "1e72ed67-b70d-459c-82be-dc6c43cff878",
   "metadata": {},
   "outputs": [
    {
     "data": {
      "text/plain": [
       "-37.68954892351154"
      ]
     },
     "execution_count": 71,
     "metadata": {},
     "output_type": "execute_result"
    }
   ],
   "source": [
    "kmeans.score(x_test, y_test)"
   ]
  },
  {
   "cell_type": "code",
   "execution_count": 76,
   "id": "9548fe79-f988-4d33-9e96-04d3d5958b0e",
   "metadata": {},
   "outputs": [
    {
     "data": {
      "text/plain": [
       "174.8719255606944"
      ]
     },
     "execution_count": 76,
     "metadata": {},
     "output_type": "execute_result"
    }
   ],
   "source": [
    "kmeans.inertia_"
   ]
  },
  {
   "cell_type": "code",
   "execution_count": 81,
   "id": "4b60ee73-19b8-4eb2-86b4-7a4095c75264",
   "metadata": {},
   "outputs": [
    {
     "data": {
      "text/plain": [
       "array([[ 0.94491901,  4.38825315],\n",
       "       [-1.34767962,  7.78226216],\n",
       "       [-1.56119266,  2.80752859],\n",
       "       [ 2.0434338 ,  0.88115645]])"
      ]
     },
     "execution_count": 81,
     "metadata": {},
     "output_type": "execute_result"
    }
   ],
   "source": [
    "kcc = kmeans.cluster_centers_\n",
    "kcc"
   ]
  },
  {
   "cell_type": "code",
   "execution_count": 104,
   "id": "3aa64370-cd13-47cc-8e55-3037afa22f0d",
   "metadata": {},
   "outputs": [
    {
     "data": {
      "text/plain": [
       "array([3, 3, 0, 0, 0, 0, 0, 2, 2, 1, 3, 1, 2, 0, 2, 1, 1, 1, 2, 3, 3, 1,\n",
       "       0, 2, 2, 3, 2, 3, 2, 3, 0, 1, 3, 2, 1, 2, 0, 0, 2, 3, 3, 1, 3, 2,\n",
       "       3, 3, 1, 0, 1, 3, 2, 2, 3, 0, 2, 0, 0, 1, 3, 0, 1, 0, 1, 3, 2, 1,\n",
       "       0, 2, 1, 0, 1, 1, 3, 0, 3, 1, 3, 0, 1, 0, 0, 3, 2, 2, 2, 1, 1, 1,\n",
       "       2, 1, 0, 0, 1, 1, 2, 1, 2, 3, 2, 2, 1, 2, 3, 0, 0, 3, 0, 0, 0, 1,\n",
       "       2, 3, 2, 3, 3, 3, 1, 2, 1, 3, 2, 0, 1, 1, 0, 1, 1, 2, 1, 3, 3, 2,\n",
       "       2, 0, 0, 2, 2, 0, 2, 1, 0, 0, 0, 2, 1, 1, 0, 3, 3, 1, 2, 3, 3, 0,\n",
       "       1, 2, 3, 3, 0, 0, 1, 2, 0, 2, 1, 0, 2, 3, 1, 0, 3, 3, 2, 2, 0, 1,\n",
       "       1, 3, 0, 0, 3, 1, 2, 0, 0, 1, 2, 3, 1, 1, 2, 2, 2, 3, 2, 3, 3, 1,\n",
       "       1, 3, 1, 0, 3, 0, 1, 1, 3, 1, 2, 0, 2, 2, 0, 2, 3, 1, 0, 3, 1, 2,\n",
       "       3, 0, 3, 1, 0, 3, 1, 3, 0, 3, 3, 1, 0, 0, 2, 2, 1, 0, 2, 0])"
      ]
     },
     "execution_count": 104,
     "metadata": {},
     "output_type": "execute_result"
    }
   ],
   "source": [
    "labels = kmeans.labels_\n",
    "labels"
   ]
  },
  {
   "cell_type": "code",
   "execution_count": 102,
   "id": "11d35d98-def2-49c3-bb67-765caf1d3577",
   "metadata": {},
   "outputs": [
    {
     "data": {
      "text/plain": [
       "242    1\n",
       "97     1\n",
       "208    0\n",
       "170    0\n",
       "32     0\n",
       "      ..\n",
       "120    2\n",
       "231    3\n",
       "42     0\n",
       "166    2\n",
       "43     0\n",
       "Name: Target, Length: 240, dtype: int32"
      ]
     },
     "execution_count": 102,
     "metadata": {},
     "output_type": "execute_result"
    }
   ],
   "source": [
    "from pprint import pprint\n",
    "y_train"
   ]
  },
  {
   "cell_type": "code",
   "execution_count": 86,
   "id": "85d974bb-4b0c-4a57-ada5-a1d671ab4fe9",
   "metadata": {},
   "outputs": [
    {
     "data": {
      "text/plain": [
       "240"
      ]
     },
     "execution_count": 86,
     "metadata": {},
     "output_type": "execute_result"
    }
   ],
   "source": [
    "len(kmeans.labels_)\n",
    "# it is the labels of training dataset"
   ]
  },
  {
   "cell_type": "code",
   "execution_count": 112,
   "id": "d1044d7c-cafa-42c0-afb4-5d8e08750d50",
   "metadata": {},
   "outputs": [
    {
     "data": {
      "text/html": [
       "<div>\n",
       "<style scoped>\n",
       "    .dataframe tbody tr th:only-of-type {\n",
       "        vertical-align: middle;\n",
       "    }\n",
       "\n",
       "    .dataframe tbody tr th {\n",
       "        vertical-align: top;\n",
       "    }\n",
       "\n",
       "    .dataframe thead th {\n",
       "        text-align: right;\n",
       "    }\n",
       "</style>\n",
       "<table border=\"1\" class=\"dataframe\">\n",
       "  <thead>\n",
       "    <tr style=\"text-align: right;\">\n",
       "      <th></th>\n",
       "      <th>0</th>\n",
       "      <th>1</th>\n",
       "    </tr>\n",
       "  </thead>\n",
       "  <tbody>\n",
       "    <tr>\n",
       "      <th>0</th>\n",
       "      <td>0.944919</td>\n",
       "      <td>4.388253</td>\n",
       "    </tr>\n",
       "    <tr>\n",
       "      <th>1</th>\n",
       "      <td>-1.347680</td>\n",
       "      <td>7.782262</td>\n",
       "    </tr>\n",
       "    <tr>\n",
       "      <th>2</th>\n",
       "      <td>-1.561193</td>\n",
       "      <td>2.807529</td>\n",
       "    </tr>\n",
       "    <tr>\n",
       "      <th>3</th>\n",
       "      <td>2.043434</td>\n",
       "      <td>0.881156</td>\n",
       "    </tr>\n",
       "  </tbody>\n",
       "</table>\n",
       "</div>"
      ],
      "text/plain": [
       "          0         1\n",
       "0  0.944919  4.388253\n",
       "1 -1.347680  7.782262\n",
       "2 -1.561193  2.807529\n",
       "3  2.043434  0.881156"
      ]
     },
     "execution_count": 112,
     "metadata": {},
     "output_type": "execute_result"
    }
   ],
   "source": [
    "kcc = pd.DataFrame(kcc)\n",
    "kcc"
   ]
  },
  {
   "cell_type": "code",
   "execution_count": 113,
   "id": "74c7bb2f-2351-4b0e-9b5d-1d6ecdefc0a4",
   "metadata": {},
   "outputs": [
    {
     "name": "stdout",
     "output_type": "stream",
     "text": [
      "X_train: 240\n",
      "y_train: 240\n",
      "labels: 240\n"
     ]
    }
   ],
   "source": [
    "print(f'X_train: {len(x_train)}')\n",
    "print(f'y_train: {len(y_train)}')\n",
    "print(f'labels: {len(labels)}')"
   ]
  },
  {
   "cell_type": "code",
   "execution_count": 134,
   "id": "8c309493-fe7a-4c95-b3fd-0e1af6ce0b7c",
   "metadata": {},
   "outputs": [
    {
     "data": {
      "image/png": "[encoded data removed]",
      "text/plain": [
       "<Figure size 640x480 with 1 Axes>"
      ]
     },
     "metadata": {},
     "output_type": "display_data"
    }
   ],
   "source": [
    "sns.scatterplot(x = kcc.iloc[:, 0], y = kcc.iloc[:, 1], marker = 'X', color = 'red', s = 100)\n",
    "sns.scatterplot(x = x_train['A'], y = x_train['B'], hue =  y_train, data = x_train, palette = 'PRGn')\n",
    "plt.show()"
   ]
  },
  {
   "cell_type": "code",
   "execution_count": 135,
   "id": "051f2c4d-4917-4ed6-8b1e-d8e7d2bcfdf1",
   "metadata": {},
   "outputs": [
    {
     "data": {
      "image/png": "[encoded data removed]",
      "text/plain": [
       "<Figure size 640x480 with 1 Axes>"
      ]
     },
     "metadata": {},
     "output_type": "display_data"
    }
   ],
   "source": [
    "sns.scatterplot(x = kcc.iloc[:, 0], y = kcc.iloc[:, 1], marker = 'X', color = 'red', s = 100)\n",
    "sns.scatterplot(x = x_train['A'], y = x_train['B'], hue = labels,  data = x_train, palette = 'PRGn')\n",
    "plt.show()"
   ]
  },
  {
   "cell_type": "markdown",
   "id": "ef03cee3-7c24-462d-bdd3-82c7afb29c1c",
   "metadata": {},
   "source": [
    "see last two plots to understand the clustering "
   ]
  },
  {
   "cell_type": "markdown",
   "id": "bbe55f0d-88d6-4be4-b07d-21732bebc4f8",
   "metadata": {},
   "source": [
    "In K-Means clustering, the centroids are determined accurately, but the issue arises with the clustering process itself. Specifically, we assign each data point to the centroid that has the smallest distance to it, which can sometimes lead to errors."
   ]
  },
  {
   "cell_type": "code",
   "execution_count": null,
   "id": "e15beff9-7406-42fd-814d-41e4e757fd21",
   "metadata": {},
   "outputs": [],
   "source": []
  }
 ],
 "metadata": {
  "kernelspec": {
   "display_name": "Python 3 (ipykernel)",
   "language": "python",
   "name": "python3"
  },
  "language_info": {
   "codemirror_mode": {
    "name": "ipython",
    "version": 3
   },
   "file_extension": ".py",
   "mimetype": "text/x-python",
   "name": "python",
   "nbconvert_exporter": "python",
   "pygments_lexer": "ipython3",
   "version": "3.11.5"
  }
 },
 "nbformat": 4,
 "nbformat_minor": 5
}
